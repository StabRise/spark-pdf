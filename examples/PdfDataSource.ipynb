{
 "cells": [
  {
   "cell_type": "markdown",
   "metadata": {
    "application/vnd.databricks.v1+cell": {
     "cellMetadata": {},
     "inputWidgets": {},
     "nuid": "b70df428-7b78-4901-9c7e-bb28888d2205",
     "showTitle": false,
     "tableResultSettingsMap": {},
     "title": ""
    }
   },
   "source": [
    "<p align=\"center\">\n",
    "  <br/>\n",
    "    <img alt=\"Spark Pdf\" src=\"https://stabrise.com/media/filer_public_thumbnails/filer_public/16/d6/16d6a0d6-f162-42ad-a5a3-7dc20361ad24/sparkpdf.png__1000x300_subsampling-2.webp\" width=\"450\" style=\"max-width: 100%;\">\n",
    "  <br/>\n",
    "</p>\n",
    "\n",
    "This notebook demonstrates how to use the PDF Datasource to load multiple page PDF files with Apache Spark.\n",
    "\n",
    "<p align=\"center\">\n",
    "    <a target=\"_blank\" href=\"https://colab.research.google.com/github/StabRise/spark-pdf/blob/main/examples/PdfDataSource.ipynb\">\n",
    "      <img src=\"https://colab.research.google.com/assets/colab-badge.svg\" alt=\"Open In Colab\"/>\n",
    "    </a>\n",
    "    <a href=\"https://search.maven.org/artifact/com.stabrise/spark-pdf_2.12\">\n",
    "        <img alt=\"Maven Central Version\" src=\"https://img.shields.io/maven-central/v/com.stabrise/spark-pdf_2.12\">\n",
    "    </a>\n",
    "    <a href=\"https://github.com/StabRise/spark-pdf/blob/master/LICENSE\" >\n",
    "        <img src=\"https://img.shields.io/badge/License-AGPL%203-blue.svg\" alt=\"License\"/>\n",
    "    </a>\n",
    "</p>\n",
    "\n",
    "---\n",
    "\n",
    "**Source Code**: [https://github.com/StabRise/spark-pdf](https://github.com/StabRise/spark-pdf)\n",
    "\n",
    "⭐ Star us on GitHub — it motivates us a lot!\n",
    "\n",
    "---\n",
    "\n",
    "## Key features:\n",
    "\n",
    "- Read PDF documents to the Spark DataFrame\n",
    "- Support read PDF files lazy per page\n",
    "- Support big files, up to 10k pages\n",
    "- Support scanned PDF files (call OCR)\n",
    "- No need to install Tesseract OCR, it's included in the package"
   ]
  },
  {
   "cell_type": "code",
   "execution_count": 0,
   "metadata": {
    "application/vnd.databricks.v1+cell": {
     "cellMetadata": {},
     "inputWidgets": {},
     "nuid": "619d29b9-91df-4321-822a-22ae99a0663c",
     "showTitle": false,
     "tableResultSettingsMap": {},
     "title": ""
    },
    "execution": {
     "iopub.execute_input": "2024-11-24T18:02:34.510389Z",
     "iopub.status.busy": "2024-11-24T18:02:34.510039Z",
     "iopub.status.idle": "2024-11-24T18:02:40.781286Z",
     "shell.execute_reply": "2024-11-24T18:02:40.779906Z",
     "shell.execute_reply.started": "2024-11-24T18:02:34.510355Z"
    }
   },
   "outputs": [],
   "source": [
    "# Install PySpark and Pillow for display images\n",
    "%pip install pyspark==3.4.1\n",
    "%pip install Pillow"
   ]
  },
  {
   "cell_type": "markdown",
   "metadata": {
    "application/vnd.databricks.v1+cell": {
     "cellMetadata": {},
     "inputWidgets": {},
     "nuid": "f4d219f5-dbfa-4511-8a73-b3989ed98310",
     "showTitle": false,
     "tableResultSettingsMap": {},
     "title": ""
    }
   },
   "source": [
    "## Creating Spark Session with Spark Pdf DataSource"
   ]
  },
  {
   "cell_type": "code",
   "execution_count": 0,
   "metadata": {
    "application/vnd.databricks.v1+cell": {
     "cellMetadata": {},
     "inputWidgets": {},
     "nuid": "9f55b972-e0db-4e7f-b00f-98a96beef66f",
     "showTitle": false,
     "tableResultSettingsMap": {},
     "title": ""
    },
    "collapsed": false
   },
   "outputs": [],
   "source": [
    "import io\n",
    "from PIL import Image\n",
    "from IPython.display import display\n",
    "from pyspark.sql import SparkSession\n",
    "from pyspark.sql.functions import col\n",
    "\n",
    "builder = SparkSession.builder \\\n",
    "    .master(\"local[*]\") \\\n",
    "    .config(\"spark.jars.packages\", \"com.stabrise:spark-pdf_2.12:0.1.7\") \\\n",
    "    .config(\"spark.driver.memory\", \"8g\") \\\n",
    "    .appName(\"SparkPdf\")\n",
    "\n",
    "spark = builder.getOrCreate()\n",
    "spark"
   ]
  },
  {
   "cell_type": "markdown",
   "metadata": {
    "application/vnd.databricks.v1+cell": {
     "cellMetadata": {},
     "inputWidgets": {},
     "nuid": "ed798dc3-36a7-4e8e-b8cd-4276deaab310",
     "showTitle": false,
     "tableResultSettingsMap": {},
     "title": ""
    },
    "execution": {
     "iopub.execute_input": "2024-11-24T17:00:14.537434Z",
     "iopub.status.busy": "2024-11-24T17:00:14.537180Z",
     "iopub.status.idle": "2024-11-24T17:00:14.540956Z",
     "shell.execute_reply": "2024-11-24T17:00:14.540241Z",
     "shell.execute_reply.started": "2024-11-24T17:00:14.537416Z"
    }
   },
   "source": [
    "## Loading pdf documents to the Spark"
   ]
  },
  {
   "cell_type": "code",
   "execution_count": 0,
   "metadata": {
    "ExecuteTime": {
     "end_time": "2024-11-25T10:29:06.885262327Z",
     "start_time": "2024-11-25T10:29:02.569874964Z"
    },
    "application/vnd.databricks.v1+cell": {
     "cellMetadata": {},
     "inputWidgets": {},
     "nuid": "a65e425c-aa98-443b-88d1-c39eb96a38cb",
     "showTitle": false,
     "tableResultSettingsMap": {},
     "title": ""
    },
    "execution": {
     "iopub.execute_input": "2024-11-25T05:34:34.317886Z",
     "iopub.status.busy": "2024-11-25T05:34:34.317599Z",
     "iopub.status.idle": "2024-11-25T05:34:34.322615Z",
     "shell.execute_reply": "2024-11-25T05:34:34.321685Z",
     "shell.execute_reply.started": "2024-11-25T05:34:34.317864Z"
    }
   },
   "outputs": [],
   "source": [
    "# Downloading example PDF files\n",
    "import urllib.request\n",
    "\n",
    "filenames = [\"./example1.pdf\", \"./example2.pdf\", \"./example3.pdf\"]\n",
    "url = f\"https://raw.githubusercontent.com/StabRise/spark-pdf/refs/heads/main/examples/\"\n",
    "for f in filenames:\n",
    "    urllib.request.urlretrieve(url + f.split(\"/\")[-1], f)"
   ]
  },
  {
   "cell_type": "code",
   "execution_count": 0,
   "metadata": {
    "ExecuteTime": {
     "end_time": "2024-11-25T10:29:11.291343719Z",
     "start_time": "2024-11-25T10:29:10.266391365Z"
    },
    "application/vnd.databricks.v1+cell": {
     "cellMetadata": {},
     "inputWidgets": {},
     "nuid": "4826f810-40e9-46e4-9f2b-88eefd3d02f3",
     "showTitle": false,
     "tableResultSettingsMap": {},
     "title": ""
    },
    "collapsed": false,
    "execution": {
     "iopub.execute_input": "2024-11-25T05:34:43.702960Z",
     "iopub.status.busy": "2024-11-25T05:34:43.702669Z",
     "iopub.status.idle": "2024-11-25T05:34:44.454923Z",
     "shell.execute_reply": "2024-11-25T05:34:44.454263Z",
     "shell.execute_reply.started": "2024-11-25T05:34:43.702940Z"
    }
   },
   "outputs": [],
   "source": [
    "df = spark.read.format(\"pdf\") \\\n",
    "    .option(\"imageType\", \"BINARY\") \\\n",
    "    .option(\"resolution\", \"300\") \\\n",
    "    .option(\"pagePerPartition\", \"8\") \\\n",
    "    .option(\"reader\", \"pdfBox\") \\\n",
    "    .load(filenames)"
   ]
  },
  {
   "cell_type": "markdown",
   "metadata": {
    "application/vnd.databricks.v1+cell": {
     "cellMetadata": {},
     "inputWidgets": {},
     "nuid": "494e6038-3490-4923-a83f-82a7605291d9",
     "showTitle": false,
     "tableResultSettingsMap": {},
     "title": ""
    }
   },
   "source": [
    "Available options for the data source:\n",
    "\n",
    "- `imageType`: Oputput image type. Can be: \"BINARY\", \"GREY\", \"RGB\". Default: \"RGB\".\n",
    "- `resolution`: Resolution for rendering PDF page to the image. Default: \"300\" dpi.\n",
    "- `pagePerPartition`: Number pages per partition in Spark DataFrame. Default: \"5\".\n",
    "- `reader`: Supports: `pdfBox` - based on PdfBox java lib, `gs` - based on GhostScript (need installation GhostScipt to the system)"
   ]
  },
  {
   "cell_type": "markdown",
   "metadata": {
    "application/vnd.databricks.v1+cell": {
     "cellMetadata": {},
     "inputWidgets": {},
     "nuid": "a7d79712-1865-4299-b755-fb266330119f",
     "showTitle": false,
     "tableResultSettingsMap": {},
     "title": ""
    }
   },
   "source": [
    "### Counting total number of pages in all documents"
   ]
  },
  {
   "cell_type": "markdown",
   "metadata": {
    "application/vnd.databricks.v1+cell": {
     "cellMetadata": {},
     "inputWidgets": {},
     "nuid": "6e77affe-7c64-4592-905c-fb09e166aea7",
     "showTitle": false,
     "tableResultSettingsMap": {},
     "title": ""
    }
   },
   "source": [
    "Spark PDF operates with a lazy evaluation approach, extracting metadata from PDF files without loading the entire file into memory.\n",
    "\n",
    "In this example, we loaded two PDF documents:  \n",
    "- The first document contains 1 page.  \n",
    "- The second document contains 1 page with not recognized text.\n",
    "- The last one document contains 30 pages.\n"
   ]
  },
  {
   "cell_type": "code",
   "execution_count": 0,
   "metadata": {
    "ExecuteTime": {
     "end_time": "2024-11-25T10:29:16.436690660Z",
     "start_time": "2024-11-25T10:29:14.936850171Z"
    },
    "application/vnd.databricks.v1+cell": {
     "cellMetadata": {},
     "inputWidgets": {},
     "nuid": "f64b0876-01be-428f-9135-d159662b09a7",
     "showTitle": false,
     "tableResultSettingsMap": {},
     "title": ""
    },
    "execution": {
     "iopub.execute_input": "2024-11-25T05:34:48.341186Z",
     "iopub.status.busy": "2024-11-25T05:34:48.340833Z",
     "iopub.status.idle": "2024-11-25T05:34:49.132473Z",
     "shell.execute_reply": "2024-11-25T05:34:49.132176Z",
     "shell.execute_reply.started": "2024-11-25T05:34:48.341159Z"
    }
   },
   "outputs": [],
   "source": [
    "df.count()"
   ]
  },
  {
   "cell_type": "markdown",
   "metadata": {
    "application/vnd.databricks.v1+cell": {
     "cellMetadata": {},
     "inputWidgets": {},
     "nuid": "321c6ce3-28c5-46a1-9dd5-9cab3a0b2dfb",
     "showTitle": false,
     "tableResultSettingsMap": {},
     "title": ""
    }
   },
   "source": [
    "### Checking Number of Partitions"
   ]
  },
  {
   "cell_type": "markdown",
   "metadata": {
    "application/vnd.databricks.v1+cell": {
     "cellMetadata": {},
     "inputWidgets": {},
     "nuid": "490401b6-792f-4c96-805b-6943ab382a1c",
     "showTitle": false,
     "tableResultSettingsMap": {},
     "title": ""
    }
   },
   "source": [
    "We specified the option `pagePerPartition = 8` in the configuration.<br/>\n",
    "This results in 6 partitions:  \n",
    "- 1 partition for the first file.  \n",
    "- 1 partition for the second file.  \n",
    "- 4 partitions for the last file, which contains 30 pages.  "
   ]
  },
  {
   "cell_type": "code",
   "execution_count": 0,
   "metadata": {
    "ExecuteTime": {
     "end_time": "2024-11-25T10:29:20.290953028Z",
     "start_time": "2024-11-25T10:29:20.123763905Z"
    },
    "application/vnd.databricks.v1+cell": {
     "cellMetadata": {},
     "inputWidgets": {},
     "nuid": "7777fb01-e503-474a-b102-a619b2dc0fb2",
     "showTitle": false,
     "tableResultSettingsMap": {},
     "title": ""
    },
    "execution": {
     "iopub.execute_input": "2024-11-25T05:34:52.207297Z",
     "iopub.status.busy": "2024-11-25T05:34:52.206923Z",
     "iopub.status.idle": "2024-11-25T05:34:52.309338Z",
     "shell.execute_reply": "2024-11-25T05:34:52.308942Z",
     "shell.execute_reply.started": "2024-11-25T05:34:52.207266Z"
    }
   },
   "outputs": [],
   "source": [
    "df.rdd.getNumPartitions()"
   ]
  },
  {
   "cell_type": "markdown",
   "metadata": {
    "application/vnd.databricks.v1+cell": {
     "cellMetadata": {},
     "inputWidgets": {},
     "nuid": "ff3c7df7-1c1d-4e8a-aabf-33e1e66a215c",
     "showTitle": false,
     "tableResultSettingsMap": {},
     "title": ""
    }
   },
   "source": [
    "### Showing the DataFrame"
   ]
  },
  {
   "cell_type": "markdown",
   "metadata": {
    "application/vnd.databricks.v1+cell": {
     "cellMetadata": {},
     "inputWidgets": {},
     "nuid": "ed1b2c42-feb7-4337-8302-592f4799df16",
     "showTitle": false,
     "tableResultSettingsMap": {},
     "title": ""
    }
   },
   "source": [
    "The DataFrame contains the following columns:\n",
    "\n",
    "- `path`: path to the file\n",
    "- `page_number`: page number of the document\n",
    "- `text`: extracted text from the text layer of the PDF page\n",
    "- `image`: image representation of the page\n",
    "- `document`: the OCR-extracted text from the rendered image (calls Tesseract OCR)\n",
    "- `partition_number`: partition number"
   ]
  },
  {
   "cell_type": "code",
   "execution_count": 0,
   "metadata": {
    "ExecuteTime": {
     "end_time": "2024-11-25T10:29:23.002003855Z",
     "start_time": "2024-11-25T10:29:22.463867415Z"
    },
    "application/vnd.databricks.v1+cell": {
     "cellMetadata": {},
     "inputWidgets": {},
     "nuid": "2fdbf412-50b6-4b60-a1bc-990eabd2ede9",
     "showTitle": false,
     "tableResultSettingsMap": {},
     "title": ""
    },
    "execution": {
     "iopub.execute_input": "2024-11-25T05:36:08.409314Z",
     "iopub.status.busy": "2024-11-25T05:36:08.409029Z",
     "iopub.status.idle": "2024-11-25T05:36:08.593900Z",
     "shell.execute_reply": "2024-11-25T05:36:08.593303Z",
     "shell.execute_reply.started": "2024-11-25T05:36:08.409293Z"
    }
   },
   "outputs": [],
   "source": [
    "df.select(\"filename\", \"page_number\", \"partition_number\", \"text\") \\\n",
    "    .orderBy(\"filename\", \"page_number\") \\\n",
    "    .show()"
   ]
  },
  {
   "cell_type": "code",
   "execution_count": 0,
   "metadata": {
    "ExecuteTime": {
     "end_time": "2024-11-25T10:29:25.972668366Z",
     "start_time": "2024-11-25T10:29:25.924994443Z"
    },
    "application/vnd.databricks.v1+cell": {
     "cellMetadata": {},
     "inputWidgets": {},
     "nuid": "be9dd702-9977-406b-96db-aa313e2e7fff",
     "showTitle": false,
     "tableResultSettingsMap": {},
     "title": ""
    },
    "execution": {
     "iopub.execute_input": "2024-11-25T05:36:30.175478Z",
     "iopub.status.busy": "2024-11-25T05:36:30.175158Z",
     "iopub.status.idle": "2024-11-25T05:36:30.182175Z",
     "shell.execute_reply": "2024-11-25T05:36:30.181475Z",
     "shell.execute_reply.started": "2024-11-25T05:36:30.175456Z"
    }
   },
   "outputs": [],
   "source": [
    "df.printSchema()"
   ]
  },
  {
   "cell_type": "markdown",
   "metadata": {
    "application/vnd.databricks.v1+cell": {
     "cellMetadata": {},
     "inputWidgets": {},
     "nuid": "e9b9f1a5-3686-486a-9bba-0aede418122f",
     "showTitle": false,
     "tableResultSettingsMap": {},
     "title": ""
    }
   },
   "source": [
    "##  PDF document page with text layer (digital/searchable PDF)."
   ]
  },
  {
   "cell_type": "code",
   "execution_count": 0,
   "metadata": {
    "ExecuteTime": {
     "end_time": "2024-11-25T10:29:31.894690279Z",
     "start_time": "2024-11-25T10:29:31.297180370Z"
    },
    "application/vnd.databricks.v1+cell": {
     "cellMetadata": {},
     "inputWidgets": {},
     "nuid": "8285830f-1b8e-4fc4-9c72-e007167c2565",
     "showTitle": false,
     "tableResultSettingsMap": {},
     "title": ""
    },
    "execution": {
     "iopub.execute_input": "2024-11-25T05:38:55.232405Z",
     "iopub.status.busy": "2024-11-25T05:38:55.232138Z",
     "iopub.status.idle": "2024-11-25T05:38:55.552481Z",
     "shell.execute_reply": "2024-11-25T05:38:55.551583Z",
     "shell.execute_reply.started": "2024-11-25T05:38:55.232387Z"
    }
   },
   "outputs": [],
   "source": [
    "# Loading first page of some document\n",
    "row = spark.read.format(\"pdf\") \\\n",
    "    .option(\"imageType\", \"BINARY\") \\\n",
    "    .option(\"resolution\", \"300\") \\\n",
    "    .option(\"pagePerPartition\", \"8\") \\\n",
    "    .option(\"reader\", \"pdfBox\") \\\n",
    "    .load([\"example1.pdf\"]) \\\n",
    "    .select(\"page_number\", \"text\", \"image.data\", \"path\") \\\n",
    "    .limit(1) \\\n",
    "    .collect()[0]"
   ]
  },
  {
   "cell_type": "code",
   "execution_count": 0,
   "metadata": {
    "ExecuteTime": {
     "end_time": "2024-11-25T10:29:34.510164610Z",
     "start_time": "2024-11-25T10:29:34.379344808Z"
    },
    "application/vnd.databricks.v1+cell": {
     "cellMetadata": {},
     "inputWidgets": {},
     "nuid": "ed91134d-ec7a-49de-8cbc-2c314f786ad4",
     "showTitle": false,
     "tableResultSettingsMap": {},
     "title": ""
    },
    "execution": {
     "iopub.execute_input": "2024-11-25T05:39:03.801120Z",
     "iopub.status.busy": "2024-11-25T05:39:03.800861Z",
     "iopub.status.idle": "2024-11-25T05:39:04.086072Z",
     "shell.execute_reply": "2024-11-25T05:39:04.085141Z",
     "shell.execute_reply.started": "2024-11-25T05:39:03.801101Z"
    }
   },
   "outputs": [],
   "source": [
    "# Image representation of the page \n",
    "display(Image.open(io.BytesIO(row.data)).resize((600, 800)))"
   ]
  },
  {
   "cell_type": "code",
   "execution_count": 0,
   "metadata": {
    "ExecuteTime": {
     "end_time": "2024-11-25T10:29:41.026152750Z",
     "start_time": "2024-11-25T10:29:40.959063312Z"
    },
    "application/vnd.databricks.v1+cell": {
     "cellMetadata": {},
     "inputWidgets": {},
     "nuid": "0ea775ba-dc25-4a9b-b62d-797a3368e7ee",
     "showTitle": false,
     "tableResultSettingsMap": {},
     "title": ""
    },
    "execution": {
     "iopub.execute_input": "2024-11-25T05:39:25.382977Z",
     "iopub.status.busy": "2024-11-25T05:39:25.382616Z",
     "iopub.status.idle": "2024-11-25T05:39:25.388293Z",
     "shell.execute_reply": "2024-11-25T05:39:25.387194Z",
     "shell.execute_reply.started": "2024-11-25T05:39:25.382955Z"
    }
   },
   "outputs": [],
   "source": [
    "print(row.text) # Text representation of the page. "
   ]
  },
  {
   "cell_type": "markdown",
   "metadata": {
    "application/vnd.databricks.v1+cell": {
     "cellMetadata": {},
     "inputWidgets": {},
     "nuid": "49492520-3255-4cb9-96fd-210b3a107caf",
     "showTitle": false,
     "tableResultSettingsMap": {},
     "title": ""
    }
   },
   "source": [
    "## PDF document page containing image data (scanned or image based PDF)"
   ]
  },
  {
   "cell_type": "code",
   "execution_count": 0,
   "metadata": {
    "ExecuteTime": {
     "end_time": "2024-11-25T10:29:46.168018926Z",
     "start_time": "2024-11-25T10:29:45.114833636Z"
    },
    "application/vnd.databricks.v1+cell": {
     "cellMetadata": {},
     "inputWidgets": {},
     "nuid": "6ee10f62-c4e4-4873-ade8-86ac06ab451d",
     "showTitle": false,
     "tableResultSettingsMap": {},
     "title": ""
    },
    "execution": {
     "iopub.execute_input": "2024-11-25T05:39:28.486151Z",
     "iopub.status.busy": "2024-11-25T05:39:28.485845Z",
     "iopub.status.idle": "2024-11-25T05:39:29.306806Z",
     "shell.execute_reply": "2024-11-25T05:39:29.306338Z",
     "shell.execute_reply.started": "2024-11-25T05:39:28.486129Z"
    }
   },
   "outputs": [],
   "source": [
    "# Loading first page of the document with not recognized text data\n",
    "row = spark.read.format(\"pdf\") \\\n",
    "    .option(\"imageType\", \"BINARY\") \\\n",
    "    .option(\"resolution\", \"300\") \\\n",
    "    .option(\"pagePerPartition\", \"8\") \\\n",
    "    .option(\"reader\", \"pdfBox\") \\\n",
    "    .load([\"example2.pdf\"]) \\\n",
    "    .select(\"page_number\", \"text\", \"document\", \"image.data\", \"path\") \\\n",
    "    .limit(1) \\\n",
    "    .collect()[0]"
   ]
  },
  {
   "cell_type": "code",
   "execution_count": 0,
   "metadata": {
    "ExecuteTime": {
     "end_time": "2024-11-25T10:29:48.759881664Z",
     "start_time": "2024-11-25T10:29:48.628996746Z"
    },
    "application/vnd.databricks.v1+cell": {
     "cellMetadata": {},
     "inputWidgets": {},
     "nuid": "e8126bcf-5101-46e9-9f46-d2aa0ad94479",
     "showTitle": false,
     "tableResultSettingsMap": {},
     "title": ""
    },
    "execution": {
     "iopub.execute_input": "2024-11-24T18:02:49.007433Z",
     "iopub.status.busy": "2024-11-24T18:02:49.007363Z",
     "iopub.status.idle": "2024-11-24T18:02:49.147967Z",
     "shell.execute_reply": "2024-11-24T18:02:49.147608Z",
     "shell.execute_reply.started": "2024-11-24T18:02:49.007426Z"
    }
   },
   "outputs": [],
   "source": [
    "display(Image.open(io.BytesIO(row.data)).resize((600, 800)))"
   ]
  },
  {
   "cell_type": "code",
   "execution_count": 0,
   "metadata": {
    "ExecuteTime": {
     "end_time": "2024-11-25T10:29:52.729883592Z",
     "start_time": "2024-11-25T10:29:52.622914608Z"
    },
    "application/vnd.databricks.v1+cell": {
     "cellMetadata": {},
     "inputWidgets": {},
     "nuid": "d71f6896-059a-43c6-8c97-e009ce8486e5",
     "showTitle": false,
     "tableResultSettingsMap": {},
     "title": ""
    },
    "execution": {
     "iopub.execute_input": "2024-11-24T18:02:49.148249Z",
     "iopub.status.busy": "2024-11-24T18:02:49.148180Z",
     "iopub.status.idle": "2024-11-24T18:02:49.151045Z",
     "shell.execute_reply": "2024-11-24T18:02:49.150166Z",
     "shell.execute_reply.started": "2024-11-24T18:02:49.148243Z"
    }
   },
   "outputs": [],
   "source": [
    "print(row.text) # it's empty, because this page doesn't contains text layer"
   ]
  },
  {
   "cell_type": "code",
   "execution_count": 0,
   "metadata": {
    "ExecuteTime": {
     "end_time": "2024-11-25T10:29:54.735385467Z",
     "start_time": "2024-11-25T10:29:54.728410924Z"
    },
    "application/vnd.databricks.v1+cell": {
     "cellMetadata": {},
     "inputWidgets": {},
     "nuid": "cadf0d34-318a-4b7f-93d3-0428321215c9",
     "showTitle": false,
     "tableResultSettingsMap": {},
     "title": ""
    },
    "execution": {
     "iopub.execute_input": "2024-11-24T18:02:49.151491Z",
     "iopub.status.busy": "2024-11-24T18:02:49.151408Z",
     "iopub.status.idle": "2024-11-24T18:02:49.160213Z",
     "shell.execute_reply": "2024-11-24T18:02:49.159726Z",
     "shell.execute_reply.started": "2024-11-24T18:02:49.151485Z"
    }
   },
   "outputs": [],
   "source": [
    "# Showing text recognized by the OCR\n",
    "print(row.document.text)"
   ]
  }
 ],
 "metadata": {
  "application/vnd.databricks.v1+notebook": {
   "dashboards": [],
   "environmentMetadata": null,
   "language": "python",
   "notebookMetadata": {
    "pythonIndentUnit": 4
   },
   "notebookName": "PdfDataSource",
   "widgets": {}
  },
  "kernelspec": {
   "display_name": "Python 3 (ipykernel)",
   "language": "python",
   "name": "python3"
  },
  "language_info": {
   "name": "python"
  }
 },
 "nbformat": 4,
 "nbformat_minor": 0
}
